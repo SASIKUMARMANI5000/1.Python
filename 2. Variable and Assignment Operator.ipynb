{
 "cells": [
  {
   "cell_type": "code",
   "execution_count": 1,
   "id": "0934fd12-4e2d-4321-990e-471f1aab3dbb",
   "metadata": {},
   "outputs": [],
   "source": [
    "num1=10\n",
    "num2=30\n",
    "add=num1+num2"
   ]
  },
  {
   "cell_type": "code",
   "execution_count": 2,
   "id": "bb4a1fb0-8b30-4441-ae29-8f26aeacbdf5",
   "metadata": {},
   "outputs": [
    {
     "name": "stdout",
     "output_type": "stream",
     "text": [
      "add\n"
     ]
    }
   ],
   "source": [
    "num1=10\n",
    "num2=30\n",
    "add=num1+num2\n",
    "print(\"add\")"
   ]
  },
  {
   "cell_type": "code",
   "execution_count": 3,
   "id": "bb431d2c-8a07-48d1-a183-b91c18e870b0",
   "metadata": {},
   "outputs": [
    {
     "name": "stdout",
     "output_type": "stream",
     "text": [
      "40\n"
     ]
    }
   ],
   "source": [
    "num1=10\n",
    "num2=30\n",
    "add=num1+num2\n",
    "print(add)"
   ]
  },
  {
   "cell_type": "code",
   "execution_count": 7,
   "id": "e64ece0e-622d-490f-8be4-709e69163e55",
   "metadata": {},
   "outputs": [
    {
     "name": "stdout",
     "output_type": "stream",
     "text": [
      "2348000\n"
     ]
    }
   ],
   "source": [
    "num1=1000\n",
    "num2=2348\n",
    "mul=num1*num2\n",
    "print(mul)"
   ]
  },
  {
   "cell_type": "code",
   "execution_count": 9,
   "id": "ed1a4d49-c1d2-468a-a3a0-55ec90d19c8d",
   "metadata": {},
   "outputs": [],
   "source": [
    "first_name= \"sasi kumar m\""
   ]
  },
  {
   "cell_type": "code",
   "execution_count": 10,
   "id": "c0224193-afca-4154-b300-9842c7ae62b7",
   "metadata": {},
   "outputs": [],
   "source": [
    "firstName= (\"sasikumar\")"
   ]
  },
  {
   "cell_type": "code",
   "execution_count": 11,
   "id": "4c6ccc6d-665e-4f55-b13d-b0997d7be5d7",
   "metadata": {},
   "outputs": [
    {
     "name": "stdout",
     "output_type": "stream",
     "text": [
      "The addition of two numbers\n"
     ]
    }
   ],
   "source": [
    "print(\"The addition of two numbers\")"
   ]
  },
  {
   "cell_type": "code",
   "execution_count": 12,
   "id": "2a912a8a-4f3a-4a04-bbc7-fe976145c4d7",
   "metadata": {},
   "outputs": [
    {
     "name": "stdout",
     "output_type": "stream",
     "text": [
      "The addition of two numbers\n"
     ]
    }
   ],
   "source": [
    "print(\"The addition of two numbers\")\n",
    "num1=10"
   ]
  },
  {
   "cell_type": "code",
   "execution_count": 13,
   "id": "60f63fbc-fcd3-4acf-b211-ca18e50c7d8e",
   "metadata": {},
   "outputs": [
    {
     "name": "stdout",
     "output_type": "stream",
     "text": [
      "The addition of two numbers\n",
      "The number 1 10\n"
     ]
    }
   ],
   "source": [
    "print(\"The addition of two numbers\")\n",
    "num1=10\n",
    "print(\"The number 1\",num1)"
   ]
  },
  {
   "cell_type": "code",
   "execution_count": 2,
   "id": "ebf72181-6690-4dd9-ab9e-db2e502cffd5",
   "metadata": {},
   "outputs": [
    {
     "name": "stdout",
     "output_type": "stream",
     "text": [
      "The addition of two numbers\n",
      "The number 1: 10\n",
      "The numer 2: 40\n",
      "The Answer: 50\n"
     ]
    }
   ],
   "source": [
    "print(\"The addition of two numbers\")\n",
    "num1=10\n",
    "print(\"The number 1:\",num1)\n",
    "num2=40\n",
    "print(\"The numer 2:\",num2)\n",
    "print(\"The Answer:\",num1+num2)"
   ]
  },
  {
   "cell_type": "code",
   "execution_count": 15,
   "id": "6ebeacb3-fee0-4d31-862b-a33776d39fe8",
   "metadata": {},
   "outputs": [
    {
     "name": "stdout",
     "output_type": "stream",
     "text": [
      "The addition of two numbers\n",
      "The Number 1: 10\n",
      "The Numer 2: 40\n",
      "The Answer: 50\n",
      "Thw Answer: 50\n"
     ]
    }
   ],
   "source": [
    "print(\"The addition of two numbers\")\n",
    "num1=10\n",
    "print(\"The Number 1:\",num1)\n",
    "num2=40\n",
    "print(\"The Numer 2:\",num2)\n",
    "print(\"The Answer:\",num1+num2)\n",
    "add=num1+num2\n",
    "print(\"Thw Answer:\",add)"
   ]
  },
  {
   "cell_type": "code",
   "execution_count": 4,
   "id": "a943ca80-d399-4a6b-9ff4-52cfc8d57162",
   "metadata": {},
   "outputs": [
    {
     "name": "stdin",
     "output_type": "stream",
     "text": [
      "Enter the num1: 20\n"
     ]
    }
   ],
   "source": [
    "num1=input(\"Enter the num1:\",)"
   ]
  },
  {
   "cell_type": "code",
   "execution_count": 5,
   "id": "fc530d08-1d79-4534-923b-a5bcc023c93e",
   "metadata": {},
   "outputs": [
    {
     "name": "stdin",
     "output_type": "stream",
     "text": [
      "Enter hte num1: 30\n",
      "Enter hte num2: 20\n"
     ]
    }
   ],
   "source": [
    "num1=input(\"Enter hte num1:\",)\n",
    "num2=input(\"Enter hte num2:\",)"
   ]
  },
  {
   "cell_type": "code",
   "execution_count": 18,
   "id": "e13cb5de-006d-4c36-99d9-9b07552bac28",
   "metadata": {},
   "outputs": [
    {
     "name": "stdin",
     "output_type": "stream",
     "text": [
      "Enter hte num1: 20\n",
      "Enter hte num2: 30\n"
     ]
    }
   ],
   "source": [
    "num1=int(input(\"Enter hte num1:\",))\n",
    "num2=int(input(\"Enter hte num2:\",))"
   ]
  },
  {
   "cell_type": "code",
   "execution_count": 20,
   "id": "17b7f0cf-9e76-4354-a25c-38c48a74ae94",
   "metadata": {},
   "outputs": [
    {
     "name": "stdout",
     "output_type": "stream",
     "text": [
      "2030\n"
     ]
    }
   ],
   "source": [
    "add=num1+num2\n",
    "print(add)"
   ]
  },
  {
   "cell_type": "code",
   "execution_count": 21,
   "id": "2f2df23a-33d6-4ff1-9cdd-2d81aea220a2",
   "metadata": {},
   "outputs": [
    {
     "name": "stdin",
     "output_type": "stream",
     "text": [
      "Enter the num1: 10\n",
      "Enter the num2: 30\n"
     ]
    }
   ],
   "source": [
    "num1=int(input(\"Enter the num1:\",))\n",
    "num2=int(input(\"Enter the num2:\",))"
   ]
  },
  {
   "cell_type": "code",
   "execution_count": 24,
   "id": "67143b76-df24-4211-8da8-f8c15be9566b",
   "metadata": {},
   "outputs": [
    {
     "name": "stdout",
     "output_type": "stream",
     "text": [
      "300\n",
      "40\n"
     ]
    }
   ],
   "source": [
    "add=num1+num2\n",
    "mul=num1*num2\n",
    "print(mul)\n",
    "print(add)"
   ]
  }
 ],
 "metadata": {
  "kernelspec": {
   "display_name": "Python 3 (ipykernel)",
   "language": "python",
   "name": "python3"
  },
  "language_info": {
   "codemirror_mode": {
    "name": "ipython",
    "version": 3
   },
   "file_extension": ".py",
   "mimetype": "text/x-python",
   "name": "python",
   "nbconvert_exporter": "python",
   "pygments_lexer": "ipython3",
   "version": "3.12.4"
  }
 },
 "nbformat": 4,
 "nbformat_minor": 5
}
