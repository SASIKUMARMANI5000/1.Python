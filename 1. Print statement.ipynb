{
 "cells": [
  {
   "cell_type": "code",
   "execution_count": null,
   "id": "84340694-6427-49f8-b2eb-99109a2383df",
   "metadata": {},
   "outputs": [],
   "source": [
    "print()"
   ]
  },
  {
   "cell_type": "code",
   "execution_count": 1,
   "id": "94914b05-ee50-4917-b66b-790c11782b9c",
   "metadata": {},
   "outputs": [
    {
     "name": "stdout",
     "output_type": "stream",
     "text": [
      "welcome\n"
     ]
    }
   ],
   "source": [
    "print(\"welcome\")"
   ]
  },
  {
   "cell_type": "code",
   "execution_count": 2,
   "id": "31f95eb0-aee3-42fc-888d-57b08e50c148",
   "metadata": {},
   "outputs": [
    {
     "name": "stdout",
     "output_type": "stream",
     "text": [
      "12345\n"
     ]
    }
   ],
   "source": [
    "print(\"12345\")"
   ]
  },
  {
   "cell_type": "code",
   "execution_count": 4,
   "id": "796cf0f9-6c85-4f09-b10a-7da479b5002d",
   "metadata": {},
   "outputs": [
    {
     "name": "stdout",
     "output_type": "stream",
     "text": [
      "sasi kumar\n"
     ]
    }
   ],
   "source": [
    "print(\"sasi kumar\")"
   ]
  },
  {
   "cell_type": "code",
   "execution_count": null,
   "id": "4d58c9a4-f432-4304-b25d-893bb7610605",
   "metadata": {},
   "outputs": [],
   "source": []
  }
 ],
 "metadata": {
  "kernelspec": {
   "display_name": "Python 3 (ipykernel)",
   "language": "python",
   "name": "python3"
  },
  "language_info": {
   "codemirror_mode": {
    "name": "ipython",
    "version": 3
   },
   "file_extension": ".py",
   "mimetype": "text/x-python",
   "name": "python",
   "nbconvert_exporter": "python",
   "pygments_lexer": "ipython3",
   "version": "3.12.4"
  }
 },
 "nbformat": 4,
 "nbformat_minor": 5
}
