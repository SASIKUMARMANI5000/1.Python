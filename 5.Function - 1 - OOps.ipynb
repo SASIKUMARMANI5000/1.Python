{
 "cells": [
  {
   "cell_type": "code",
   "execution_count": 1,
   "id": "7ab88df7-b780-485c-ad4d-c3d4ff73bdf0",
   "metadata": {},
   "outputs": [],
   "source": [
    "def Agecategory():\n",
    "        if(age<18):\n",
    "              print(\"Children\")\n",
    "              cate=\"Children\"\n",
    "        elif(age<35):\n",
    "              print(\"Adult\")\n",
    "              cate=\"Adult\"\n",
    "        elif(age<59):\n",
    "              print(\"Citizen\")\n",
    "              cate=\"Citizen\"\n",
    "        else:\n",
    "              print(\"Senior Citizen\") \n",
    "              cate=\"Senior Citizen\"\n",
    "        return cate"
   ]
  },
  {
   "cell_type": "code",
   "execution_count": 2,
   "id": "5747ceff-f3df-4d64-a022-ca0e1eded83b",
   "metadata": {},
   "outputs": [
    {
     "name": "stdin",
     "output_type": "stream",
     "text": [
      "Enter the Age: 25\n"
     ]
    },
    {
     "name": "stdout",
     "output_type": "stream",
     "text": [
      "Adult\n"
     ]
    }
   ],
   "source": [
    "age = int(input(\"Enter the Age:\"))\n",
    "agecate=Agecategory()"
   ]
  },
  {
   "cell_type": "code",
   "execution_count": 3,
   "id": "6665c250-e711-41dc-a383-6aa62ca54956",
   "metadata": {},
   "outputs": [],
   "source": [
    "def AgecategoryNoR():\n",
    "        if(age<18):\n",
    "              print(\"Children\")\n",
    "              cate=\"Children\"\n",
    "        elif(age<35):\n",
    "              print(\"Adult\")\n",
    "              cate=\"Adult\"\n",
    "        elif(age<59):\n",
    "              print(\"Citizen\")\n",
    "              cate=\"Citizen\"\n",
    "        else:\n",
    "              print(\"Senior Citizen\") \n",
    "              cate=\"Senior Citizen\""
   ]
  },
  {
   "cell_type": "code",
   "execution_count": 4,
   "id": "09d026fe-4905-48bb-9d37-107e9c1b0140",
   "metadata": {},
   "outputs": [
    {
     "name": "stdin",
     "output_type": "stream",
     "text": [
      "Enter the Age: 10\n"
     ]
    },
    {
     "name": "stdout",
     "output_type": "stream",
     "text": [
      "Children\n"
     ]
    }
   ],
   "source": [
    "age = int(input(\"Enter the Age:\"))\n",
    "agecate=AgecategoryNoR()"
   ]
  },
  {
   "cell_type": "code",
   "execution_count": 5,
   "id": "7b8a2c6a-baa0-467d-aae8-b8a766c9f5d2",
   "metadata": {},
   "outputs": [
    {
     "name": "stdout",
     "output_type": "stream",
     "text": [
      "None\n"
     ]
    }
   ],
   "source": [
    "print (agecate)"
   ]
  },
  {
   "cell_type": "code",
   "execution_count": 6,
   "id": "3d726dd0-2951-4955-ab65-f15cdbd7e561",
   "metadata": {},
   "outputs": [
    {
     "name": "stdin",
     "output_type": "stream",
     "text": [
      "Enter the Age: 5\n"
     ]
    },
    {
     "name": "stdout",
     "output_type": "stream",
     "text": [
      "Children\n"
     ]
    }
   ],
   "source": [
    "age = int(input(\"Enter the Age:\"))\n",
    "agecate=Agecategory()"
   ]
  },
  {
   "cell_type": "code",
   "execution_count": 7,
   "id": "ff1c55fd-519d-4297-ab71-7aa8994469a7",
   "metadata": {},
   "outputs": [],
   "source": [
    "def OddEven():\n",
    "    num=int(input(\"Enter the Number:\"))\n",
    "    if((num%2)==0):\n",
    "        print(\"Even Number\")\n",
    "        message=\"Even Number\"\n",
    "    else:\n",
    "        print(\"odd Number\")\n",
    "        message=\"odd Number\"\n",
    "    return message    "
   ]
  },
  {
   "cell_type": "code",
   "execution_count": 8,
   "id": "f673f73b-4e14-4539-8474-e7849fe215a1",
   "metadata": {},
   "outputs": [
    {
     "name": "stdin",
     "output_type": "stream",
     "text": [
      "Enter the Number: 5\n"
     ]
    },
    {
     "name": "stdout",
     "output_type": "stream",
     "text": [
      "odd Number\n"
     ]
    },
    {
     "data": {
      "text/plain": [
       "'odd Number'"
      ]
     },
     "execution_count": 8,
     "metadata": {},
     "output_type": "execute_result"
    }
   ],
   "source": [
    "OddEven()"
   ]
  },
  {
   "cell_type": "code",
   "execution_count": 9,
   "id": "3f16a9b0-dd64-4096-af43-9303adce8fca",
   "metadata": {},
   "outputs": [
    {
     "name": "stdin",
     "output_type": "stream",
     "text": [
      "Enter the Number: 7\n"
     ]
    },
    {
     "name": "stdout",
     "output_type": "stream",
     "text": [
      "odd Number\n"
     ]
    }
   ],
   "source": [
    "message=OddEven()"
   ]
  },
  {
   "cell_type": "code",
   "execution_count": 10,
   "id": "3aad757c-3622-4631-a34e-721516a1d86f",
   "metadata": {},
   "outputs": [
    {
     "name": "stdout",
     "output_type": "stream",
     "text": [
      "The given number is Odd\n"
     ]
    }
   ],
   "source": [
    "if(message==\"Even Number\"):\n",
    "    print(\"The given number is Even\")\n",
    "else:\n",
    "    print(\"The given number is Odd\")"
   ]
  },
  {
   "cell_type": "code",
   "execution_count": 11,
   "id": "7e2895f6-b875-4f51-a25f-f6eaa7b266f5",
   "metadata": {},
   "outputs": [],
   "source": [
    "def BMI():\n",
    "    BMI=int(input(\"Enter the BMI Index:\"))\n",
    "    if(BMI<18.5): \n",
    "        print(\"Underweight\") \n",
    "        message=\"Underweight\" \n",
    "    elif(BMI<24.9):\n",
    "        print(\"Normal\")\n",
    "        message=\"Normal\"\n",
    "    elif(BMI<29.9):\n",
    "        print(\"Overweight\")\n",
    "        message=\"Overweight\"\n",
    "    else:\n",
    "        print(\"Very Overweight\")\n",
    "        message=\"Very Overweight\"\n",
    "    return message"
   ]
  },
  {
   "cell_type": "code",
   "execution_count": 12,
   "id": "05a1b475-9578-4358-b364-114670131352",
   "metadata": {},
   "outputs": [
    {
     "name": "stdin",
     "output_type": "stream",
     "text": [
      "Enter the BMI Index: 35\n"
     ]
    },
    {
     "name": "stdout",
     "output_type": "stream",
     "text": [
      "Very Overweight\n"
     ]
    },
    {
     "data": {
      "text/plain": [
       "'Very Overweight'"
      ]
     },
     "execution_count": 12,
     "metadata": {},
     "output_type": "execute_result"
    }
   ],
   "source": [
    "BMI()"
   ]
  },
  {
   "cell_type": "code",
   "execution_count": 13,
   "id": "25f71b93-962f-4eee-a612-a98b4b20ebfd",
   "metadata": {},
   "outputs": [
    {
     "name": "stdin",
     "output_type": "stream",
     "text": [
      "Enter the BMI Index: 40\n"
     ]
    },
    {
     "name": "stdout",
     "output_type": "stream",
     "text": [
      "Very Overweight\n"
     ]
    }
   ],
   "source": [
    "bmi=BMI()"
   ]
  },
  {
   "cell_type": "code",
   "execution_count": 14,
   "id": "81d41657-3ec7-498e-9f83-a2cebc2ce2ad",
   "metadata": {},
   "outputs": [
    {
     "data": {
      "text/plain": [
       "'Very Overweight'"
      ]
     },
     "execution_count": 14,
     "metadata": {},
     "output_type": "execute_result"
    }
   ],
   "source": [
    "bmi"
   ]
  },
  {
   "cell_type": "code",
   "execution_count": 23,
   "id": "bc4bf59c-1af2-4710-a506-6aa4ac5b9666",
   "metadata": {},
   "outputs": [],
   "source": [
    "def addition(num1,num2):\n",
    "    add=num1+num2\n",
    "    return add    "
   ]
  },
  {
   "cell_type": "code",
   "execution_count": 24,
   "id": "e6b210f1-8376-42c6-be1e-17d463368c07",
   "metadata": {},
   "outputs": [
    {
     "data": {
      "text/plain": [
       "15"
      ]
     },
     "execution_count": 24,
     "metadata": {},
     "output_type": "execute_result"
    }
   ],
   "source": [
    "addition(5,10)"
   ]
  }
 ],
 "metadata": {
  "kernelspec": {
   "display_name": "Python 3 (ipykernel)",
   "language": "python",
   "name": "python3"
  },
  "language_info": {
   "codemirror_mode": {
    "name": "ipython",
    "version": 3
   },
   "file_extension": ".py",
   "mimetype": "text/x-python",
   "name": "python",
   "nbconvert_exporter": "python",
   "pygments_lexer": "ipython3",
   "version": "3.12.4"
  }
 },
 "nbformat": 4,
 "nbformat_minor": 5
}
