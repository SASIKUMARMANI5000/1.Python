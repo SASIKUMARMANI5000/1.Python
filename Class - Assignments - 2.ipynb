{
 "cells": [
  {
   "cell_type": "code",
   "execution_count": null,
   "id": "bb1f796b-0a3b-4c37-96fa-27afd2f69232",
   "metadata": {},
   "outputs": [],
   "source": [
    "#Subfields"
   ]
  },
  {
   "cell_type": "code",
   "execution_count": 4,
   "id": "b44b28d4-238e-4d26-aa2c-79bef92dc73a",
   "metadata": {},
   "outputs": [],
   "source": [
    "from classAssignments2 import Assignments2"
   ]
  },
  {
   "cell_type": "code",
   "execution_count": 5,
   "id": "0066dffa-9f3b-4463-ba82-5eb8e92375c1",
   "metadata": {},
   "outputs": [
    {
     "name": "stdout",
     "output_type": "stream",
     "text": [
      "Sub-fields in AI are:\n",
      "Machine Learning\n",
      "Neural Networks\n",
      "Vision\n",
      "Robotics\n",
      "Speech Processing\n",
      "Natural Language Processing\n"
     ]
    }
   ],
   "source": [
    "Assignments2.Subfields()"
   ]
  },
  {
   "cell_type": "code",
   "execution_count": null,
   "id": "bd65fb6d-fd70-440d-89a1-2f568b2056db",
   "metadata": {},
   "outputs": [],
   "source": [
    "#OddEven"
   ]
  },
  {
   "cell_type": "code",
   "execution_count": 6,
   "id": "918de538-5bc8-4f3a-80e8-ab2a7838fcc4",
   "metadata": {},
   "outputs": [
    {
     "name": "stdin",
     "output_type": "stream",
     "text": [
      "Enter a number:  52452\n"
     ]
    },
    {
     "name": "stdout",
     "output_type": "stream",
     "text": [
      "52452 is Even number\n"
     ]
    }
   ],
   "source": [
    "Assignments2.OddEven()"
   ]
  },
  {
   "cell_type": "code",
   "execution_count": null,
   "id": "88c2266d-6b53-4858-8902-fbff793fdfda",
   "metadata": {},
   "outputs": [],
   "source": [
    "#Elegible"
   ]
  },
  {
   "cell_type": "code",
   "execution_count": 7,
   "id": "9003ec61-0dea-49f0-a416-2c89c4192c7b",
   "metadata": {},
   "outputs": [
    {
     "name": "stdin",
     "output_type": "stream",
     "text": [
      "Your Gender: Male\n",
      "Your Age: 20\n"
     ]
    },
    {
     "name": "stdout",
     "output_type": "stream",
     "text": [
      "NOT ELIGIBLE\n"
     ]
    }
   ],
   "source": [
    "Assignments2.Elegible()"
   ]
  },
  {
   "cell_type": "code",
   "execution_count": null,
   "id": "319a6394-41f0-4f3c-8f6a-09baaf582dd7",
   "metadata": {},
   "outputs": [],
   "source": [
    "#Percentage"
   ]
  },
  {
   "cell_type": "code",
   "execution_count": 8,
   "id": "e4b8ffe2-e80a-4f9a-ba34-72e303cf66ef",
   "metadata": {},
   "outputs": [
    {
     "name": "stdin",
     "output_type": "stream",
     "text": [
      "Subject1=  98\n",
      "Subject2=  87\n",
      "Subject3=  95\n",
      "Subject4=  95\n",
      "Subject5=  93\n"
     ]
    },
    {
     "name": "stdout",
     "output_type": "stream",
     "text": [
      "Total :  468\n",
      "Percentage :  93.60000000000001\n"
     ]
    }
   ],
   "source": [
    "Assignments2.percentage()"
   ]
  },
  {
   "cell_type": "code",
   "execution_count": null,
   "id": "d67c792f-301d-428d-8557-7744caf066e0",
   "metadata": {},
   "outputs": [],
   "source": [
    "#Triangle"
   ]
  },
  {
   "cell_type": "code",
   "execution_count": 9,
   "id": "5ed25352-9e73-475d-b7a3-2a795247c8f4",
   "metadata": {},
   "outputs": [
    {
     "name": "stdin",
     "output_type": "stream",
     "text": [
      "Height: 32\n",
      "Breadth: 34\n"
     ]
    },
    {
     "name": "stdout",
     "output_type": "stream",
     "text": [
      "Area formula: (Height*Breadth)/2\n",
      "Area of Triangle:  544.0\n"
     ]
    },
    {
     "name": "stdin",
     "output_type": "stream",
     "text": [
      "Height1: 2\n",
      "Height2: 4\n",
      "Breadth: 4\n"
     ]
    },
    {
     "name": "stdout",
     "output_type": "stream",
     "text": [
      "Perimeter formula: Height1+Height2+Breadth\n",
      "Perimeter of Triangle:  10\n"
     ]
    }
   ],
   "source": [
    "Assignments2.triangle()"
   ]
  },
  {
   "cell_type": "code",
   "execution_count": null,
   "id": "69e879ac-ba0e-43e1-bf1f-3be0949c2e19",
   "metadata": {},
   "outputs": [],
   "source": []
  }
 ],
 "metadata": {
  "kernelspec": {
   "display_name": "Python 3 (ipykernel)",
   "language": "python",
   "name": "python3"
  },
  "language_info": {
   "codemirror_mode": {
    "name": "ipython",
    "version": 3
   },
   "file_extension": ".py",
   "mimetype": "text/x-python",
   "name": "python",
   "nbconvert_exporter": "python",
   "pygments_lexer": "ipython3",
   "version": "3.12.4"
  }
 },
 "nbformat": 4,
 "nbformat_minor": 5
}
