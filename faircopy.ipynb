{
 "cells": [
  {
   "cell_type": "code",
   "execution_count": 1,
   "id": "87131b97-2d06-4ea8-91fa-ce10de4fb755",
   "metadata": {},
   "outputs": [],
   "source": [
    "from multipleFunction import multifunction"
   ]
  },
  {
   "cell_type": "code",
   "execution_count": 2,
   "id": "bf73b7ec-d906-466f-a9f4-23e69c9b173a",
   "metadata": {},
   "outputs": [
    {
     "name": "stdin",
     "output_type": "stream",
     "text": [
      "Enter the BMI Index: 45\n"
     ]
    },
    {
     "name": "stdout",
     "output_type": "stream",
     "text": [
      "Very Overweight\n"
     ]
    },
    {
     "data": {
      "text/plain": [
       "'Very Overweight'"
      ]
     },
     "execution_count": 2,
     "metadata": {},
     "output_type": "execute_result"
    }
   ],
   "source": [
    "multifunction.BMI()"
   ]
  },
  {
   "cell_type": "code",
   "execution_count": 3,
   "id": "35968449-fe47-4ce0-a794-a264086537ce",
   "metadata": {},
   "outputs": [
    {
     "name": "stdin",
     "output_type": "stream",
     "text": [
      "Enter the Number: 75\n"
     ]
    },
    {
     "name": "stdout",
     "output_type": "stream",
     "text": [
      "odd Number\n"
     ]
    },
    {
     "data": {
      "text/plain": [
       "'odd Number'"
      ]
     },
     "execution_count": 3,
     "metadata": {},
     "output_type": "execute_result"
    }
   ],
   "source": [
    "multifunction.OddEven()"
   ]
  },
  {
   "cell_type": "code",
   "execution_count": null,
   "id": "d5429cbf-4913-4171-ab04-ec4d46b624da",
   "metadata": {},
   "outputs": [],
   "source": []
  }
 ],
 "metadata": {
  "kernelspec": {
   "display_name": "Python 3 (ipykernel)",
   "language": "python",
   "name": "python3"
  },
  "language_info": {
   "codemirror_mode": {
    "name": "ipython",
    "version": 3
   },
   "file_extension": ".py",
   "mimetype": "text/x-python",
   "name": "python",
   "nbconvert_exporter": "python",
   "pygments_lexer": "ipython3",
   "version": "3.12.4"
  }
 },
 "nbformat": 4,
 "nbformat_minor": 5
}
