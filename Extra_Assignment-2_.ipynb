{
 "cells": [
  {
   "cell_type": "code",
   "execution_count": null,
   "id": "f40e3567-f25d-49f5-97d3-539e51af79dd",
   "metadata": {},
   "outputs": [],
   "source": [
    "# print 0 to 20 by using range"
   ]
  },
  {
   "cell_type": "code",
   "execution_count": 1,
   "id": "6305c038-8749-4bc4-b7d6-77145547ba24",
   "metadata": {},
   "outputs": [
    {
     "name": "stdout",
     "output_type": "stream",
     "text": [
      "0\n",
      "1\n",
      "2\n",
      "3\n",
      "4\n",
      "5\n",
      "6\n",
      "7\n",
      "8\n",
      "9\n",
      "10\n",
      "11\n",
      "12\n",
      "13\n",
      "14\n",
      "15\n",
      "16\n",
      "17\n",
      "18\n",
      "19\n"
     ]
    }
   ],
   "source": [
    "range(0,20)\n",
    "for num in range(0,20):\n",
    "    print(num)"
   ]
  },
  {
   "cell_type": "code",
   "execution_count": null,
   "id": "a700b9ac-8d86-4911-a47c-5c067aa5b804",
   "metadata": {},
   "outputs": [],
   "source": [
    "# print range 10 to 20"
   ]
  },
  {
   "cell_type": "code",
   "execution_count": 2,
   "id": "22fc3b59-7fe0-4910-8ec7-f386c3eab4f5",
   "metadata": {},
   "outputs": [
    {
     "name": "stdout",
     "output_type": "stream",
     "text": [
      "10,11,12,13,14,15,16,17,18,19,"
     ]
    }
   ],
   "source": [
    "range(10,20)\n",
    "for num in range(10,20):\n",
    "    print(num,end=',')"
   ]
  },
  {
   "cell_type": "code",
   "execution_count": null,
   "id": "d0ad2a3b-b09d-457d-944f-3c5d23fa1251",
   "metadata": {},
   "outputs": [],
   "source": [
    " # Print number of items in the list by using 'len'"
   ]
  },
  {
   "cell_type": "code",
   "execution_count": 3,
   "id": "7d09e212-1302-4355-9ee7-8b778b171b0b",
   "metadata": {},
   "outputs": [
    {
     "name": "stdout",
     "output_type": "stream",
     "text": [
      "[10, 20, 14, 55, 43, 87, 76]\n",
      "Number of item in the List2: 7\n"
     ]
    }
   ],
   "source": [
    "a=[10,20,14,55,43,87,76]\n",
    "print(a)\n",
    "total=len(a)\n",
    "print(\"Number of item in the List2:\",total)"
   ]
  },
  {
   "cell_type": "code",
   "execution_count": null,
   "id": "a83e526c-f689-4583-a7fc-c06a01df696f",
   "metadata": {},
   "outputs": [],
   "source": [
    "#"
   ]
  },
  {
   "cell_type": "code",
   "execution_count": 4,
   "id": "3ee6f3cd-8e2e-4cb0-aa9f-bae5e29523fb",
   "metadata": {},
   "outputs": [
    {
     "name": "stdout",
     "output_type": "stream",
     "text": [
      "Artificial Intelligence\n",
      "A\n",
      "r\n",
      "t\n",
      "i\n",
      "f\n",
      "i\n",
      "c\n",
      "i\n",
      "a\n",
      "l\n",
      " \n",
      "I\n",
      "n\n",
      "t\n",
      "e\n",
      "l\n",
      "l\n",
      "i\n",
      "g\n",
      "e\n",
      "n\n",
      "c\n",
      "e\n"
     ]
    }
   ],
   "source": [
    "name= (\"Artificial Intelligence\")\n",
    "print(name)\n",
    "for letter in name:\n",
    "    print(letter)"
   ]
  },
  {
   "cell_type": "code",
   "execution_count": null,
   "id": "70d84896-1639-4b36-b526-5b233ec294b9",
   "metadata": {},
   "outputs": [],
   "source": [
    "#"
   ]
  },
  {
   "cell_type": "code",
   "execution_count": 5,
   "id": "aae292c8-3651-49f4-bce9-f35b9e38a844",
   "metadata": {},
   "outputs": [
    {
     "name": "stdout",
     "output_type": "stream",
     "text": [
      "-Your Name-\n",
      "-Your Age-\n",
      "-Your Profession-\n"
     ]
    }
   ],
   "source": [
    "print(\"-Your Name-\")\n",
    "print(\"-Your Age-\")\n",
    "print(\"-Your Profession-\")"
   ]
  },
  {
   "cell_type": "code",
   "execution_count": null,
   "id": "08d81107-a941-497d-8c4d-122ae7a667e6",
   "metadata": {},
   "outputs": [],
   "source": [
    "# Refer this link : https://www.geeksforgeeks.org/python-tuples/\n",
    "# Print yhis mixered datatype using Tuples"
   ]
  },
  {
   "cell_type": "code",
   "execution_count": 6,
   "id": "143c42d0-b791-4a6f-9b74-e40f76b17209",
   "metadata": {},
   "outputs": [
    {
     "name": "stdout",
     "output_type": "stream",
     "text": [
      "(1, 'Welcome', 2, 'Hope')\n"
     ]
    }
   ],
   "source": [
    "tuple1=(1,'Welcome')\n",
    "tuple2=(2,'Hope')\n",
    "tuple3=tuple1+tuple2\n",
    "print(tuple3)"
   ]
  },
  {
   "cell_type": "code",
   "execution_count": null,
   "id": "c7c6be80-c97b-4c16-a35c-52af527bebfa",
   "metadata": {},
   "outputs": [],
   "source": [
    " # Refer this link : https://www.geeksforgeeks.org/python-tuples/\n",
    "Tuple1 = (0, 1, 2, 3)"
   ]
  },
  {
   "cell_type": "code",
   "execution_count": 7,
   "id": "74798762-6499-4f9d-ad77-c25714f187b4",
   "metadata": {},
   "outputs": [
    {
     "name": "stdout",
     "output_type": "stream",
     "text": [
      "((0, 1, 2, 3), ('Python', 'Hope'))\n"
     ]
    }
   ],
   "source": [
    "tuple1=(0,1,2,3)\n",
    "tuple2=('Python','Hope')\n",
    "tuple3=(tuple1,tuple2)\n",
    "print(tuple3)"
   ]
  },
  {
   "cell_type": "code",
   "execution_count": null,
   "id": "472f7e45-00de-42d5-a46a-40e1985cf747",
   "metadata": {},
   "outputs": [],
   "source": [
    "# print Odd Numbers in the list"
   ]
  },
  {
   "cell_type": "code",
   "execution_count": 8,
   "id": "19914af2-7d14-4b72-ac15-f968cc5d4cfa",
   "metadata": {},
   "outputs": [
    {
     "name": "stdout",
     "output_type": "stream",
     "text": [
      "(20, 10, 16, 19, 25, 1, 276, 188)\n",
      "19 is odd\n",
      "25 is odd\n",
      "1 is odd\n"
     ]
    }
   ],
   "source": [
    "num=(20,10,16,19,25,1,276,188)\n",
    "print(num)\n",
    "for i in num:\n",
    "   if i % 2== 1:\n",
    "       print(i,\"is odd\")"
   ]
  },
  {
   "cell_type": "code",
   "execution_count": null,
   "id": "05b662dd-a0a7-4bb3-ad96-39a7e2070eb3",
   "metadata": {},
   "outputs": [],
   "source": [
    " # print Even numbers in the list"
   ]
  },
  {
   "cell_type": "code",
   "execution_count": 9,
   "id": "65864c98-ca32-43d2-a2f9-a147849c89b2",
   "metadata": {},
   "outputs": [
    {
     "name": "stdout",
     "output_type": "stream",
     "text": [
      "(20, 10, 16, 19, 25, 1, 276, 188)\n",
      "20 is Even\n",
      "10 is Even\n",
      "16 is Even\n",
      "276 is Even\n",
      "188 is Even\n"
     ]
    }
   ],
   "source": [
    "num=(20,10,16,19,25,1,276,188)\n",
    "print(num)\n",
    "for i in num:\n",
    "   if i % 2== 0:\n",
    "       print(i,\"is Even\")"
   ]
  }
 ],
 "metadata": {
  "kernelspec": {
   "display_name": "Python 3 (ipykernel)",
   "language": "python",
   "name": "python3"
  },
  "language_info": {
   "codemirror_mode": {
    "name": "ipython",
    "version": 3
   },
   "file_extension": ".py",
   "mimetype": "text/x-python",
   "name": "python",
   "nbconvert_exporter": "python",
   "pygments_lexer": "ipython3",
   "version": "3.12.4"
  }
 },
 "nbformat": 4,
 "nbformat_minor": 5
}
