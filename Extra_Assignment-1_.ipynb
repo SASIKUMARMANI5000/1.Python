{
 "cells": [
  {
   "cell_type": "code",
   "execution_count": null,
   "id": "b8039ef8-201f-435e-8a42-078e87b0c8b6",
   "metadata": {},
   "outputs": [],
   "source": [
    "#print Statement"
   ]
  },
  {
   "cell_type": "code",
   "execution_count": 1,
   "id": "aadab3e9-bcb2-4581-b736-4c3d81f3ba44",
   "metadata": {},
   "outputs": [
    {
     "name": "stdout",
     "output_type": "stream",
     "text": [
      "HOPE AI\n"
     ]
    }
   ],
   "source": [
    "print(\"HOPE AI\")"
   ]
  },
  {
   "cell_type": "code",
   "execution_count": null,
   "id": "aa3078b1-b7da-44e6-95f8-8793c2979110",
   "metadata": {},
   "outputs": [],
   "source": [
    "#Buy input "
   ]
  },
  {
   "cell_type": "code",
   "execution_count": 2,
   "id": "fedd2b2d-32bc-41d3-bbdb-1291b3fe5d77",
   "metadata": {},
   "outputs": [
    {
     "name": "stdin",
     "output_type": "stream",
     "text": [
      "Enter your institute name?: HOPE AI\n"
     ]
    }
   ],
   "source": [
    "name1=input(\"Enter your institute name?:\")"
   ]
  },
  {
   "cell_type": "code",
   "execution_count": null,
   "id": "5ceecbee-abb5-4e12-b5d1-1586c23d2a67",
   "metadata": {},
   "outputs": [],
   "source": [
    "#Buy inputs"
   ]
  },
  {
   "cell_type": "code",
   "execution_count": 3,
   "id": "ffeb1691-1019-4281-b4cf-ba6131cb92e9",
   "metadata": {},
   "outputs": [
    {
     "name": "stdin",
     "output_type": "stream",
     "text": [
      "Enter your name: Raj\n",
      "Enter your age: 15\n",
      "Enter your school name: Guru school\n",
      "Enter your degree: B.E CSE\n"
     ]
    }
   ],
   "source": [
    "que1=input(\"Enter your name:\")\n",
    "que2=input(\"Enter your age:\")\n",
    "que3=input(\"Enter your school name:\")\n",
    "que4=input(\"Enter your degree:\")"
   ]
  },
  {
   "cell_type": "code",
   "execution_count": null,
   "id": "41153d5b-1dfc-4422-b204-59632a6865b3",
   "metadata": {},
   "outputs": [],
   "source": [
    "#Addition"
   ]
  },
  {
   "cell_type": "code",
   "execution_count": 4,
   "id": "04288b79-911a-40aa-adf8-7718b1f66783",
   "metadata": {},
   "outputs": [
    {
     "name": "stdout",
     "output_type": "stream",
     "text": [
      "a= 43\n"
     ]
    }
   ],
   "source": [
    "num1=43\n",
    "print(\"a=\",num1)"
   ]
  },
  {
   "cell_type": "code",
   "execution_count": 5,
   "id": "23b9b0d0-3855-4b84-91da-f87d3b99a498",
   "metadata": {},
   "outputs": [
    {
     "name": "stdout",
     "output_type": "stream",
     "text": [
      "b= 34\n"
     ]
    }
   ],
   "source": [
    "num2=34\n",
    "print(\"b=\",num2)"
   ]
  },
  {
   "cell_type": "code",
   "execution_count": 6,
   "id": "69d1862d-08aa-4e77-8f03-628d74d7db08",
   "metadata": {},
   "outputs": [
    {
     "name": "stdout",
     "output_type": "stream",
     "text": [
      "add= 77\n"
     ]
    }
   ],
   "source": [
    "print(\"add=\",num1+num2)"
   ]
  },
  {
   "cell_type": "code",
   "execution_count": null,
   "id": "d85eb1c1-255e-4a0c-bf78-875099a26be9",
   "metadata": {},
   "outputs": [],
   "source": [
    ": #Subtraction"
   ]
  },
  {
   "cell_type": "code",
   "execution_count": 7,
   "id": "30344bc8-9e4f-4568-9033-222c51fd6427",
   "metadata": {},
   "outputs": [
    {
     "name": "stdout",
     "output_type": "stream",
     "text": [
      "a= 43\n",
      "b= 34\n",
      "Sub= 9\n"
     ]
    }
   ],
   "source": [
    "num1=43\n",
    "print(\"a=\",num1)\n",
    "num2=34\n",
    "print(\"b=\",num2)\n",
    "print(\"Sub=\",num1-num2)"
   ]
  },
  {
   "cell_type": "code",
   "execution_count": null,
   "id": "35e80f91-7da2-4c53-a669-1816eca5663e",
   "metadata": {},
   "outputs": [],
   "source": [
    "#Multiplication"
   ]
  },
  {
   "cell_type": "code",
   "execution_count": 8,
   "id": "0feb68c2-df7a-42c4-963c-30c46ee74730",
   "metadata": {},
   "outputs": [
    {
     "name": "stdout",
     "output_type": "stream",
     "text": [
      "a= 63\n",
      "b= 97\n",
      "Mul= 6111\n"
     ]
    }
   ],
   "source": [
    "num1=63\n",
    "print(\"a=\",num1)\n",
    "num2=97\n",
    "print(\"b=\",num2)\n",
    "print(\"Mul=\",num1*num2)"
   ]
  },
  {
   "cell_type": "code",
   "execution_count": null,
   "id": "19e61143-7136-481d-a62a-0ae7dc25fb3a",
   "metadata": {},
   "outputs": [],
   "source": [
    "#Division"
   ]
  },
  {
   "cell_type": "code",
   "execution_count": 9,
   "id": "8229d1d4-5206-4cd2-90af-0dc71820a902",
   "metadata": {},
   "outputs": [
    {
     "name": "stdout",
     "output_type": "stream",
     "text": [
      "a= 76\n",
      "b= 31\n",
      "Div= 2.4516129032258065\n"
     ]
    }
   ],
   "source": [
    "num1=76\n",
    "print(\"a=\",num1)\n",
    "num2=31\n",
    "print(\"b=\",num2)\n",
    "print(\"Div=\",num1/num2)"
   ]
  },
  {
   "cell_type": "code",
   "execution_count": null,
   "id": "6a648ea3-385f-40ae-8120-2194e61d0f28",
   "metadata": {},
   "outputs": [],
   "source": [
    "#Floor division"
   ]
  },
  {
   "cell_type": "code",
   "execution_count": 10,
   "id": "f01728c0-e664-4348-9fa1-f8017c64f1ed",
   "metadata": {},
   "outputs": [
    {
     "name": "stdout",
     "output_type": "stream",
     "text": [
      "a= 76\n",
      "b= 31\n",
      "Floor Div= 2\n"
     ]
    }
   ],
   "source": [
    "num1=76\n",
    "print(\"a=\",num1)\n",
    "num2=31\n",
    "print(\"b=\",num2)\n",
    "print(\"Floor Div=\",num1//num2)"
   ]
  },
  {
   "cell_type": "code",
   "execution_count": null,
   "id": "c9a5ad84-edbe-43ba-8d35-2e43b1164225",
   "metadata": {},
   "outputs": [],
   "source": [
    "#Power"
   ]
  },
  {
   "cell_type": "code",
   "execution_count": 11,
   "id": "339c52e3-ab00-4d31-b02a-ba470e2c0e85",
   "metadata": {},
   "outputs": [
    {
     "name": "stdout",
     "output_type": "stream",
     "text": [
      "a= 4\n",
      "b= 4\n",
      "Power= 256\n"
     ]
    }
   ],
   "source": [
    "num1=4\n",
    "print(\"a=\",num1)\n",
    "num2=4\n",
    "print(\"b=\",num2)\n",
    "print(\"Power=\",num1**num2)"
   ]
  }
 ],
 "metadata": {
  "kernelspec": {
   "display_name": "Python 3 (ipykernel)",
   "language": "python",
   "name": "python3"
  },
  "language_info": {
   "codemirror_mode": {
    "name": "ipython",
    "version": 3
   },
   "file_extension": ".py",
   "mimetype": "text/x-python",
   "name": "python",
   "nbconvert_exporter": "python",
   "pygments_lexer": "ipython3",
   "version": "3.12.4"
  }
 },
 "nbformat": 4,
 "nbformat_minor": 5
}
