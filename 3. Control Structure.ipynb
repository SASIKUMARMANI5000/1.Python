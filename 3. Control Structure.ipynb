{
 "cells": [
  {
   "cell_type": "markdown",
   "id": "e76439ec-9b20-4841-bab5-316d6e4c000e",
   "metadata": {
    "jp-MarkdownHeadingCollapsed": true
   },
   "source": [
    "if():\n",
    "print()"
   ]
  },
  {
   "cell_type": "markdown",
   "id": "a25a3b44-2c46-4adf-afc0-7cc75ed4de12",
   "metadata": {},
   "source": [
    "if condition"
   ]
  },
  {
   "cell_type": "code",
   "execution_count": 1,
   "id": "6545f8a7-64a3-41f8-8ebf-20954a889040",
   "metadata": {},
   "outputs": [
    {
     "name": "stdin",
     "output_type": "stream",
     "text": [
      "Enter the Age: 18\n"
     ]
    }
   ],
   "source": [
    "age=int(input(\"Enter the Age:\"))"
   ]
  },
  {
   "cell_type": "code",
   "execution_count": 2,
   "id": "afb778fe-1faf-4065-8aa7-f06a93831eb6",
   "metadata": {},
   "outputs": [
    {
     "name": "stdout",
     "output_type": "stream",
     "text": [
      "True\n",
      "Adult\n"
     ]
    }
   ],
   "source": [
    "print(age==18)\n",
    "print(\"Adult\")"
   ]
  },
  {
   "cell_type": "code",
   "execution_count": 35,
   "id": "a02e4eaf-d32e-42aa-a512-56699ad30fe5",
   "metadata": {},
   "outputs": [],
   "source": [
    "if(age==18):\n",
    "     print(\"Adult\")"
   ]
  },
  {
   "cell_type": "code",
   "execution_count": 36,
   "id": "dd8fc907-dd0e-44bc-b7ff-cff065a584c9",
   "metadata": {},
   "outputs": [
    {
     "name": "stdin",
     "output_type": "stream",
     "text": [
      "Enter the Age: 10\n"
     ]
    }
   ],
   "source": [
    "age=int(input(\"Enter the Age:\"))\n",
    "if(age==18):\n",
    "     print(\"Adult\")"
   ]
  },
  {
   "cell_type": "code",
   "execution_count": 5,
   "id": "dc21ce28-6350-4194-ac06-70b3bb0d929a",
   "metadata": {},
   "outputs": [
    {
     "name": "stdin",
     "output_type": "stream",
     "text": [
      "Enter the Age: 18\n"
     ]
    }
   ],
   "source": [
    "age=int(input(\"Enter the Age:\"))"
   ]
  },
  {
   "cell_type": "code",
   "execution_count": 6,
   "id": "2cb8e733-c9b5-4d72-a19e-6cdf187884cd",
   "metadata": {},
   "outputs": [
    {
     "name": "stdout",
     "output_type": "stream",
     "text": [
      "Adult\n"
     ]
    }
   ],
   "source": [
    "if(age==18):\n",
    "    print(\"Adult\")"
   ]
  },
  {
   "cell_type": "markdown",
   "id": "aaae2e7d-9941-4120-869e-8f64dbeba2ee",
   "metadata": {},
   "source": [
    "#if-else condition"
   ]
  },
  {
   "cell_type": "code",
   "execution_count": 7,
   "id": "55b0abb0-fc24-4c76-a9a3-ffbc576239a1",
   "metadata": {},
   "outputs": [
    {
     "name": "stdin",
     "output_type": "stream",
     "text": [
      "Enter the Age: 15\n"
     ]
    },
    {
     "name": "stdout",
     "output_type": "stream",
     "text": [
      "children\n"
     ]
    }
   ],
   "source": [
    "age=int(input(\"Enter the Age:\"))\n",
    "if(age<=18):\n",
    "    print(\"children\")\n",
    "else:\n",
    "    print(\"Adult\")"
   ]
  },
  {
   "cell_type": "code",
   "execution_count": 8,
   "id": "6c74f360-0302-4e32-a249-3cb6d81fcaa4",
   "metadata": {},
   "outputs": [
    {
     "name": "stdin",
     "output_type": "stream",
     "text": [
      "Enter the Age: 18\n"
     ]
    },
    {
     "name": "stdout",
     "output_type": "stream",
     "text": [
      "children\n"
     ]
    }
   ],
   "source": [
    "age=int(input(\"Enter the Age:\"))\n",
    "if(age<=18):\n",
    "    print(\"children\")\n",
    "else:\n",
    "    print(\"Adult\")"
   ]
  },
  {
   "cell_type": "code",
   "execution_count": 9,
   "id": "23002d03-009d-4c25-af51-15c2c0f1e15c",
   "metadata": {},
   "outputs": [
    {
     "name": "stdin",
     "output_type": "stream",
     "text": [
      "Enter the Age: 18\n"
     ]
    },
    {
     "name": "stdout",
     "output_type": "stream",
     "text": [
      "Adult\n"
     ]
    }
   ],
   "source": [
    "age=int(input(\"Enter the Age:\"))\n",
    "if(age<18):\n",
    "    print(\"children\")\n",
    "else:\n",
    "    print(\"Adult\")"
   ]
  },
  {
   "cell_type": "code",
   "execution_count": 10,
   "id": "779462f2-cdda-410c-bae0-66400d37b937",
   "metadata": {},
   "outputs": [
    {
     "name": "stdin",
     "output_type": "stream",
     "text": [
      "Enter the Age: 40\n"
     ]
    },
    {
     "name": "stdout",
     "output_type": "stream",
     "text": [
      "Adult\n"
     ]
    }
   ],
   "source": [
    "age=int(input(\"Enter the Age:\"))\n",
    "if(age<18):\n",
    "    print(\"children\")\n",
    "else:\n",
    "    print(\"Adult\")"
   ]
  },
  {
   "cell_type": "markdown",
   "id": "8c6689ce-99d4-4b14-ba70-5e2ccd602097",
   "metadata": {},
   "source": [
    "#if-elif condition"
   ]
  },
  {
   "cell_type": "markdown",
   "id": "24a1b6ee-7ca2-4bf3-a166-c5eab79ec29b",
   "metadata": {},
   "source": [
    "age<18--- children\n",
    "age<35--- Adult\n",
    "age<59--- Citizen\n",
    "age>59--- Senior Citizen"
   ]
  },
  {
   "cell_type": "code",
   "execution_count": 11,
   "id": "f4add2bb-06f3-4949-97b2-db8daebcbfa5",
   "metadata": {},
   "outputs": [
    {
     "name": "stdin",
     "output_type": "stream",
     "text": [
      "Enter The Age: 5\n"
     ]
    }
   ],
   "source": [
    "age=int(input(\"Enter The Age:\"))"
   ]
  },
  {
   "cell_type": "code",
   "execution_count": 12,
   "id": "79cd55dc-4371-475f-9a18-940f56e3ba76",
   "metadata": {},
   "outputs": [
    {
     "name": "stdout",
     "output_type": "stream",
     "text": [
      "Children\n"
     ]
    }
   ],
   "source": [
    "if(age<18):\n",
    "    print(\"Children\")\n",
    "elif(age<35):\n",
    "    print(\"Adult\")\n",
    "elif(age<59):\n",
    "    print(\"Citizen\")\n",
    "else:\n",
    "    print(\"Senior Citizen\")"
   ]
  },
  {
   "cell_type": "code",
   "execution_count": 13,
   "id": "e3149201-73a6-49fe-a2c3-25521d165d8b",
   "metadata": {},
   "outputs": [
    {
     "name": "stdin",
     "output_type": "stream",
     "text": [
      "Enter The Age: 25\n"
     ]
    },
    {
     "name": "stdout",
     "output_type": "stream",
     "text": [
      "Adult\n"
     ]
    }
   ],
   "source": [
    "age=int(input(\"Enter The Age:\"))\n",
    "if(age<18):\n",
    "    print(\"Children\")\n",
    "elif(age<35):\n",
    "    print(\"Adult\")\n",
    "elif(age<59):\n",
    "    print(\"Citizen\")\n",
    "else:\n",
    "    print(\"Senior Citizen\")"
   ]
  },
  {
   "cell_type": "code",
   "execution_count": 14,
   "id": "98ac4efa-cde2-4759-a20a-b07f11832fab",
   "metadata": {},
   "outputs": [
    {
     "name": "stdin",
     "output_type": "stream",
     "text": [
      "Enter The Age: 45\n"
     ]
    },
    {
     "name": "stdout",
     "output_type": "stream",
     "text": [
      "Citizen\n"
     ]
    }
   ],
   "source": [
    "age=int(input(\"Enter The Age:\"))\n",
    "if(age<18):\n",
    "    print(\"Children\")\n",
    "elif(age<35):\n",
    "    print(\"Adult\")\n",
    "elif(age<59):\n",
    "    print(\"Citizen\")\n",
    "else:\n",
    "    print(\"Senior Citizen\")"
   ]
  },
  {
   "cell_type": "code",
   "execution_count": 15,
   "id": "4a6f15b3-7e34-46db-b2fe-0dc848c3e33c",
   "metadata": {},
   "outputs": [
    {
     "name": "stdin",
     "output_type": "stream",
     "text": [
      "Enter The Age: 89\n"
     ]
    },
    {
     "name": "stdout",
     "output_type": "stream",
     "text": [
      "Senior Citizen\n"
     ]
    }
   ],
   "source": [
    "age=int(input(\"Enter The Age:\"))\n",
    "if(age<18):\n",
    "    print(\"Children\")\n",
    "elif(age<35):\n",
    "    print(\"Adult\")\n",
    "elif(age<59):\n",
    "    print(\"Citizen\")\n",
    "else:\n",
    "    print(\"Senior Citizen\")"
   ]
  },
  {
   "cell_type": "markdown",
   "id": "0047b7e7-9b34-4f36-ab9e-615875ad9b2e",
   "metadata": {},
   "source": [
    "#for-loop condition"
   ]
  },
  {
   "cell_type": "markdown",
   "id": "4461c262-6ea8-4fd6-932f-5029a5557343",
   "metadata": {},
   "source": [
    "for temperory variable in multivariable:"
   ]
  },
  {
   "cell_type": "code",
   "execution_count": null,
   "id": "671ae5e3-cea1-44af-a0df-81f386445960",
   "metadata": {},
   "outputs": [],
   "source": [
    "for temp in multivariable:\n",
    "    print(temp)"
   ]
  },
  {
   "cell_type": "code",
   "execution_count": 20,
   "id": "93e7c05f-b086-4166-ad52-6fdc824820ff",
   "metadata": {},
   "outputs": [
    {
     "name": "stdout",
     "output_type": "stream",
     "text": [
      "23\n",
      "48\n",
      "67\n",
      "89\n",
      "34\n"
     ]
    }
   ],
   "source": [
    "lists=[23,48,67,89,34]\n",
    "for temp in lists:\n",
    "    print(temp)"
   ]
  },
  {
   "cell_type": "code",
   "execution_count": 24,
   "id": "e5c0a8fb-1ea9-43f5-9611-6d50b0719ac6",
   "metadata": {},
   "outputs": [
    {
     "name": "stdout",
     "output_type": "stream",
     "text": [
      "Adult\n",
      "Citizen\n",
      "Senior Citizen\n",
      "Senior Citizen\n",
      "Adult\n"
     ]
    }
   ],
   "source": [
    "for age in lists:\n",
    "    if(age<18):\n",
    "          print(\"Children\")\n",
    "    elif(age<35):\n",
    "          print(\"Adult\")\n",
    "    elif(age<59):\n",
    "          print(\"Citizen\")\n",
    "    else:\n",
    "          print(\"Senior Citizen\") "
   ]
  },
  {
   "cell_type": "markdown",
   "id": "0fb9764c-32c1-43e5-af0d-b8b817f171c7",
   "metadata": {},
   "source": [
    "#logic"
   ]
  },
  {
   "cell_type": "code",
   "execution_count": 33,
   "id": "86630e0c-8de6-4719-9d79-fb7f0dabd298",
   "metadata": {},
   "outputs": [
    {
     "name": "stdin",
     "output_type": "stream",
     "text": [
      "Enter the Number 10\n"
     ]
    }
   ],
   "source": [
    "num=int(input(\"Enter the Number\"))"
   ]
  },
  {
   "cell_type": "code",
   "execution_count": 34,
   "id": "994c5cd8-7c63-49d2-8231-4ded86f9c862",
   "metadata": {},
   "outputs": [
    {
     "name": "stdout",
     "output_type": "stream",
     "text": [
      "Even Number\n"
     ]
    }
   ],
   "source": [
    "if((num%2)==0):\n",
    "    print(\"Even Number\")\n",
    "else:\n",
    "    print(\"odd Number\")"
   ]
  },
  {
   "cell_type": "markdown",
   "id": "455c866a-f098-4553-a981-b4e30ba2f554",
   "metadata": {},
   "source": [
    "#range"
   ]
  },
  {
   "cell_type": "code",
   "execution_count": 46,
   "id": "f0e4164b-3ef9-4c3b-8838-a7cb2c23c523",
   "metadata": {},
   "outputs": [
    {
     "name": "stdout",
     "output_type": "stream",
     "text": [
      "(0, 10)\n"
     ]
    }
   ],
   "source": [
    "range=(0,10)\n",
    "print(range)\n"
   ]
  },
  {
   "cell_type": "code",
   "execution_count": 62,
   "id": "ac352159-6606-4993-9157-4bd2a66083f8",
   "metadata": {},
   "outputs": [
    {
     "name": "stdout",
     "output_type": "stream",
     "text": [
      "range(0,10)\n"
     ]
    }
   ],
   "source": [
    "print(\"range(0,10)\")"
   ]
  },
  {
   "cell_type": "code",
   "execution_count": 63,
   "id": "04971134-180c-473e-8544-7c7c721922b1",
   "metadata": {},
   "outputs": [
    {
     "name": "stdout",
     "output_type": "stream",
     "text": [
      "range(0,10)\n"
     ]
    }
   ],
   "source": [
    "print(\"range(0,10)\")"
   ]
  },
  {
   "cell_type": "code",
   "execution_count": 53,
   "id": "971871a6-fd22-4db8-90ef-a2e438013bae",
   "metadata": {},
   "outputs": [
    {
     "name": "stdout",
     "output_type": "stream",
     "text": [
      "(0, 10)\n"
     ]
    }
   ],
   "source": [
    "range=(0,10)\n",
    "print(range)"
   ]
  },
  {
   "cell_type": "code",
   "execution_count": 69,
   "id": "dda3e18e-0501-4b94-befb-3e9c781dc0ec",
   "metadata": {},
   "outputs": [
    {
     "name": "stdout",
     "output_type": "stream",
     "text": [
      "range(0,10)\n"
     ]
    }
   ],
   "source": [
    "print(\"range(0,10)\")"
   ]
  }
 ],
 "metadata": {
  "kernelspec": {
   "display_name": "Python 3 (ipykernel)",
   "language": "python",
   "name": "python3"
  },
  "language_info": {
   "codemirror_mode": {
    "name": "ipython",
    "version": 3
   },
   "file_extension": ".py",
   "mimetype": "text/x-python",
   "name": "python",
   "nbconvert_exporter": "python",
   "pygments_lexer": "ipython3",
   "version": "3.12.4"
  }
 },
 "nbformat": 4,
 "nbformat_minor": 5
}
