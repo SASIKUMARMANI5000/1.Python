{
 "cells": [
  {
   "cell_type": "code",
   "execution_count": null,
   "id": "ec0cb525-bc9d-40d7-9c07-78c45ba625e4",
   "metadata": {},
   "outputs": [],
   "source": [
    "#"
   ]
  },
  {
   "cell_type": "code",
   "execution_count": 1,
   "id": "de5733f6-e9e5-4a4e-8e1c-7c2dc241101f",
   "metadata": {},
   "outputs": [
    {
     "name": "stdout",
     "output_type": "stream",
     "text": [
      "Welcome to Assignment - 1\n"
     ]
    }
   ],
   "source": [
    "print(\"Welcome to Assignment - 1\")"
   ]
  },
  {
   "cell_type": "code",
   "execution_count": null,
   "id": "31b835a6-465e-4ebc-bb32-acd1e1d7777a",
   "metadata": {},
   "outputs": [],
   "source": [
    "#"
   ]
  },
  {
   "cell_type": "code",
   "execution_count": 2,
   "id": "30792e82-b462-4881-a1d5-a0e2cbdcbeca",
   "metadata": {},
   "outputs": [
    {
     "name": "stdout",
     "output_type": "stream",
     "text": [
      "Num1= 10\n",
      "Num2= 30\n",
      "Add= 40\n"
     ]
    }
   ],
   "source": [
    "num1=10\n",
    "print(\"Num1=\",num1)\n",
    "num2=30\n",
    "print(\"Num2=\",num2)\n",
    "add=num1+num2\n",
    "print(\"Add=\",add)"
   ]
  },
  {
   "cell_type": "code",
   "execution_count": null,
   "id": "8f4a897e-edcb-41e0-ba73-a699cbcce361",
   "metadata": {},
   "outputs": [],
   "source": [
    "#Body Mass Index"
   ]
  },
  {
   "cell_type": "code",
   "execution_count": 4,
   "id": "37385347-dd21-4275-b101-f34e0797fb42",
   "metadata": {},
   "outputs": [
    {
     "name": "stdout",
     "output_type": "stream",
     "text": [
      "Enter the BMI Index: 34\n"
     ]
    }
   ],
   "source": [
    "weight=34\n",
    "print(\"Enter the BMI Index:\",weight)"
   ]
  },
  {
   "cell_type": "code",
   "execution_count": 7,
   "id": "6fbaa5f5-b10e-46a0-baf0-d69ee3bd31ae",
   "metadata": {},
   "outputs": [
    {
     "name": "stdout",
     "output_type": "stream",
     "text": [
      "Enter the BMI Index: 34\n",
      "very overweight\n"
     ]
    }
   ],
   "source": [
    "weight=34\n",
    "print(\"Enter the BMI Index:\",weight)\n",
    "if(weight>29.9):\n",
    "    print(\"very overweight\")\n",
    "else:\n",
    "    print(\"overweight\")"
   ]
  },
  {
   "cell_type": "code",
   "execution_count": 8,
   "id": "1291c8cd-f97b-4854-b15b-ff7fa70d1929",
   "metadata": {},
   "outputs": [
    {
     "name": "stdout",
     "output_type": "stream",
     "text": [
      "Enter the BMI Index: 34\n",
      "very overweight\n"
     ]
    }
   ],
   "source": [
    "weight=34\n",
    "print(\"Enter the BMI Index:\",weight)\n",
    "if(weight>29.9):\n",
    "    print(\"very overweight\")\n",
    "else:\n",
    "    print(\"overweight\")"
   ]
  },
  {
   "cell_type": "code",
   "execution_count": 9,
   "id": "3230b8f3-a1f6-4104-86e6-01cf2a7883ce",
   "metadata": {},
   "outputs": [
    {
     "name": "stdout",
     "output_type": "stream",
     "text": [
      "Enter the BMI Index: 20\n",
      "overweight\n"
     ]
    }
   ],
   "source": [
    "weight=20\n",
    "print(\"Enter the BMI Index:\",weight)\n",
    "if(weight>29.9):\n",
    "    print(\"very overweight\")\n",
    "else:\n",
    "    print(\"overweight\")"
   ]
  },
  {
   "cell_type": "code",
   "execution_count": null,
   "id": "f2a38492-1808-4cee-888f-b922ad1f0ab5",
   "metadata": {},
   "outputs": [],
   "source": []
  }
 ],
 "metadata": {
  "kernelspec": {
   "display_name": "Python 3 (ipykernel)",
   "language": "python",
   "name": "python3"
  },
  "language_info": {
   "codemirror_mode": {
    "name": "ipython",
    "version": 3
   },
   "file_extension": ".py",
   "mimetype": "text/x-python",
   "name": "python",
   "nbconvert_exporter": "python",
   "pygments_lexer": "ipython3",
   "version": "3.12.4"
  }
 },
 "nbformat": 4,
 "nbformat_minor": 5
}
