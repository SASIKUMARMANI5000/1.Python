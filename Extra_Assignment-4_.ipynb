{
 "cells": [
  {
   "cell_type": "code",
   "execution_count": null,
   "id": "80be8ec6-2c47-4221-9ea1-049854eb9b84",
   "metadata": {},
   "outputs": [],
   "source": [
    "# Create a class and function, and list out the items in the list"
   ]
  },
  {
   "cell_type": "code",
   "execution_count": 1,
   "id": "00f52263-efc9-4ea9-b543-a6611b2c81fd",
   "metadata": {},
   "outputs": [
    {
     "name": "stdout",
     "output_type": "stream",
     "text": [
      "Sub-fields in AI are:\n",
      "Machine Learning\n",
      "Neural Networks\n",
      "Vision\n",
      "Robotics\n",
      "Speech Processing\n",
      "Natural Language Processing\n"
     ]
    }
   ],
   "source": [
    "print(\"Sub-fields in AI are:\")\n",
    "List=['Machine Learning','Neural Networks','Vision','Robotics','Speech Processing','Natural Language Processing']\n",
    "for temp in List:\n",
    "     print(temp)\n",
    "    "
   ]
  },
  {
   "cell_type": "code",
   "execution_count": null,
   "id": "0d7a2e83-8a47-4314-b069-6cbe51b2c7d1",
   "metadata": {},
   "outputs": [],
   "source": [
    "# Create a function that checks whether the given number is Odd or Even"
   ]
  },
  {
   "cell_type": "code",
   "execution_count": 2,
   "id": "012d5ab5-aff7-4b19-bf0d-f89913572b2c",
   "metadata": {},
   "outputs": [
    {
     "name": "stdin",
     "output_type": "stream",
     "text": [
      "Enter a Number: 52452\n"
     ]
    }
   ],
   "source": [
    "num=int(input(\"Enter a Number:\"))"
   ]
  },
  {
   "cell_type": "code",
   "execution_count": 3,
   "id": "52c9c360-1a6f-428d-8fd6-40c07c932f26",
   "metadata": {},
   "outputs": [
    {
     "name": "stdout",
     "output_type": "stream",
     "text": [
      "52452is Even Number\n"
     ]
    }
   ],
   "source": [
    "    if(num%2)==0:\n",
    "        print(\"{0}is Even Number\".format(num))\n",
    "    else:\n",
    "        print(\"{0}is odd Number\".format(num))"
   ]
  },
  {
   "cell_type": "code",
   "execution_count": null,
   "id": "dcb887fb-5bd9-4918-9c42-17bcb5b39ffd",
   "metadata": {},
   "outputs": [],
   "source": [
    "# Create a function that tells elegibility of marriage for male and female according to their age limit like 21 for male and 18 for female"
   ]
  },
  {
   "cell_type": "code",
   "execution_count": 4,
   "id": "acf7d7e4-3484-4db6-a7e9-8bc7b38a4f7c",
   "metadata": {},
   "outputs": [
    {
     "name": "stdin",
     "output_type": "stream",
     "text": [
      "Your Gender Male\n",
      "Your Age 20\n"
     ]
    },
    {
     "name": "stdout",
     "output_type": "stream",
     "text": [
      "NOT ELIGIBLE\n"
     ]
    }
   ],
   "source": [
    "gender=input(\"Your Gender\")\n",
    "age=int(input(\"Your Age\"))\n",
    "if(gender=='Male'):\n",
    "  if(age>21):\n",
    "    print(\"ELIGIBLE\")\n",
    "    \n",
    "  else:\n",
    "    print(\"NOT ELIGIBLE\")\n",
    "elif(gender=='Male'):\n",
    "    \n",
    "  if(age>18):\n",
    "     print(\"ELIGIBLE\")\n",
    "  else:\n",
    "    print(\"NOT ELIGIBLE\")\n",
    "else:\n",
    "    print(\"INVALID INPUT DATA\")"
   ]
  },
  {
   "cell_type": "code",
   "execution_count": null,
   "id": "861c18e3-de19-4284-88b6-9c572288ddca",
   "metadata": {},
   "outputs": [],
   "source": [
    "# calculate the percentage of your 10th mark"
   ]
  },
  {
   "cell_type": "code",
   "execution_count": 5,
   "id": "389bdde4-2d7e-4598-b65d-4a4966cffe6b",
   "metadata": {},
   "outputs": [
    {
     "name": "stdin",
     "output_type": "stream",
     "text": [
      "Subject1=: 98\n",
      "Subject2=: 87\n",
      "Subject3=: 95\n",
      "Subject4=: 95\n",
      "Subject5=: 93\n"
     ]
    },
    {
     "name": "stdout",
     "output_type": "stream",
     "text": [
      "468\n",
      "93.60000000000001\n"
     ]
    }
   ],
   "source": [
    "m1=int(input(\"Subject1=:\"))\n",
    "m2=int(input(\"Subject2=:\"))\n",
    "m3=int(input(\"Subject3=:\"))\n",
    "m4=int(input(\"Subject4=:\"))\n",
    "m5=int(input(\"Subject5=:\"))\n",
    "Total=m1+m2+m3+m4+m5\n",
    "print(Total)\n",
    "Percentage=(Total/500)*100\n",
    "print(Percentage)"
   ]
  },
  {
   "cell_type": "code",
   "execution_count": null,
   "id": "87e505b0-7ba5-4944-9069-1b7675c6398d",
   "metadata": {},
   "outputs": [],
   "source": [
    "#print area and perimeter of triangle using class and functions"
   ]
  },
  {
   "cell_type": "code",
   "execution_count": 6,
   "id": "6244ce26-e3f1-4121-94c9-d54441db0c2b",
   "metadata": {},
   "outputs": [
    {
     "name": "stdin",
     "output_type": "stream",
     "text": [
      "Height: 32\n",
      "Breadth: 34\n"
     ]
    },
    {
     "name": "stdout",
     "output_type": "stream",
     "text": [
      "Area formula:(Height*Breadth)/2\n",
      "Area of Triangle: 544.0\n"
     ]
    },
    {
     "name": "stdin",
     "output_type": "stream",
     "text": [
      "Height1: 2\n",
      "Height2: 4\n",
      "Breadht: 4\n"
     ]
    },
    {
     "name": "stdout",
     "output_type": "stream",
     "text": [
      "Perimeter formula: Height1+Height2+Breadth\n",
      "Perimeter of Triangle: 10\n"
     ]
    }
   ],
   "source": [
    "Height=int(input(\"Height:\"))\n",
    "Breadth=int(input(\"Breadth:\"))\n",
    "print(\"Area formula:(Height*Breadth)/2\")\n",
    "print(\"Area of Triangle:\",(Height*Breadth)/2)\n",
    "h1=int(input(\"Height1:\"))\n",
    "h2=int(input(\"Height2:\"))\n",
    "b1=int(input(\"Breadht:\"))\n",
    "print(\"Perimeter formula: Height1+Height2+Breadth\")\n",
    "print(\"Perimeter of Triangle:\",h1+h2+b1)         "
   ]
  }
 ],
 "metadata": {
  "kernelspec": {
   "display_name": "Python 3 (ipykernel)",
   "language": "python",
   "name": "python3"
  },
  "language_info": {
   "codemirror_mode": {
    "name": "ipython",
    "version": 3
   },
   "file_extension": ".py",
   "mimetype": "text/x-python",
   "name": "python",
   "nbconvert_exporter": "python",
   "pygments_lexer": "ipython3",
   "version": "3.12.4"
  }
 },
 "nbformat": 4,
 "nbformat_minor": 5
}
